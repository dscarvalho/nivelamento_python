{
  "nbformat": 4,
  "nbformat_minor": 0,
  "metadata": {
    "colab": {
      "name": "3a_feira.ipynb",
      "version": "0.3.2",
      "provenance": [],
      "include_colab_link": true
    },
    "kernelspec": {
      "display_name": "py36",
      "language": "python",
      "name": "py36"
    }
  },
  "cells": [
    {
      "cell_type": "markdown",
      "metadata": {
        "id": "view-in-github",
        "colab_type": "text"
      },
      "source": [
        "<a href=\"https://colab.research.google.com/github/dscarvalho/nivelamento_python/blob/master/3a_feira.ipynb\" target=\"_parent\"><img src=\"https://colab.research.google.com/assets/colab-badge.svg\" alt=\"Open In Colab\"/></a>"
      ]
    },
    {
      "metadata": {
        "id": "PV5ZlEnKWchD",
        "colab_type": "text"
      },
      "cell_type": "markdown",
      "source": [
        "<h1 align=\"center\">Aula 2</h1>\n",
        "\n",
        "## Conteúdo\n",
        "\n",
        "- Ambiente de trabalho (2): git & GitHub\n",
        "- O comando \"import\"\n",
        "- Importando math para calcular\n",
        "- Problema: Contando números\n",
        "- Problema: Contando palavras\n",
        "- Funções\n",
        "- Ambiente de trabalho (3): editor de código\n",
        "- Módulos e pacotes\n",
        "- Entrada e saída (1): arquivos\n",
        "- Problema: Preenchendo tabela de produtos\n",
        "- \\[Extra\\]: Unicode\n",
        "- Problema: Formatando informações de produtos"
      ]
    },
    {
      "metadata": {
        "id": "xseg8mAOtkbm",
        "colab_type": "code",
        "colab": {}
      },
      "cell_type": "code",
      "source": [
        ""
      ],
      "execution_count": 0,
      "outputs": []
    },
    {
      "metadata": {
        "id": "w7IgGeHHWchM",
        "colab_type": "text"
      },
      "cell_type": "markdown",
      "source": [
        "## Ambiente de trabalho (2): git & GitHub\n"
      ]
    },
    {
      "metadata": {
        "id": "x4Ym-1_sWchP",
        "colab_type": "text"
      },
      "cell_type": "markdown",
      "source": [
        "Ao trabalhar com grande quantidade de código ou colaborativamente, torna-se necessário o uso de ferramentas para gerenciar o código.\n",
        "\n",
        "Um grupo importante de ferramentas são os VCS (Version Control System), dos quais o *git* é um exemplo importante. O git foi criado para ajudar na organização do desenvolvimento do Linux, que envolve centenas de pessoas.\n",
        "\n",
        "Um VCS permite rastrear mudanças feitas em códigos (quem, quando, o que, e onde) e também combinar alterações feitas por pessoas diferentes em um mesmo arquivo. Além disso, também é possivel usá-lo como ferramenta de distribuição e atualização de programas.\n",
        "\n",
        "Espaços públicos para a distribuição e desenvolvimento colaborativo de programas então tornaram-se populares, sendo o GitHub um dos serviços mais conhecidos.\n",
        "\n",
        "[https://github.com](https://github.com)\n",
        "\n",
        "O GitHub permite hospedar código aberto ao público (open-source) gratuitamente.\n",
        "Código fica organizado em repositórios e pode ser sincronizado a partir de qualquer computador com o programa git instalado.\n",
        "\n",
        "<br/><br/>\n",
        "\n",
        "***\n",
        "\n",
        "<br/><br/>"
      ]
    },
    {
      "metadata": {
        "id": "VGlKWxfhWchT",
        "colab_type": "text"
      },
      "cell_type": "markdown",
      "source": [
        "###### Criem uma conta no GitHub, e façam o envio (pull) dos notebooks contendo as notas de aula de vocês.\n",
        "\n",
        "<br/><br/><br/><br/>\n",
        "\n",
        "***"
      ]
    },
    {
      "metadata": {
        "id": "DeujxKxMWchW",
        "colab_type": "text"
      },
      "cell_type": "markdown",
      "source": [
        "## O comando \"import\""
      ]
    },
    {
      "metadata": {
        "id": "X3IscYaIWchc",
        "colab_type": "text"
      },
      "cell_type": "markdown",
      "source": [
        "Quando precisamos usar funcionalidades não inclusas na linguagem python,\n",
        "fazemos uso do comando import para disponibilizá-las:"
      ]
    },
    {
      "metadata": {
        "id": "bwoZ4G2GWchf",
        "colab_type": "code",
        "colab": {}
      },
      "cell_type": "code",
      "source": [
        "import datetime  # Inclui funcionalidade relativa a data e hora."
      ],
      "execution_count": 0,
      "outputs": []
    },
    {
      "metadata": {
        "id": "6AhRRrtEWchr",
        "colab_type": "text"
      },
      "cell_type": "markdown",
      "source": [
        "## Importando math para calcular"
      ]
    },
    {
      "metadata": {
        "id": "lxkQ7beIWchu",
        "colab_type": "code",
        "colab": {}
      },
      "cell_type": "code",
      "source": [
        "import math"
      ],
      "execution_count": 0,
      "outputs": []
    },
    {
      "metadata": {
        "id": "7XHXvm4IWchz",
        "colab_type": "code",
        "outputId": "4f98e3bf-98e2-48a2-d17f-5fa790403b1d",
        "colab": {}
      },
      "cell_type": "code",
      "source": [
        "print(math.sqrt(121))\n",
        "print(math.log(math.e))\n",
        "print(math.cos(math.pi))"
      ],
      "execution_count": 0,
      "outputs": [
        {
          "output_type": "stream",
          "text": [
            "11.0\n",
            "1.0\n",
            "-1.0\n"
          ],
          "name": "stdout"
        }
      ]
    },
    {
      "metadata": {
        "id": "d6uXAhpkWciB",
        "colab_type": "code",
        "outputId": "3d8baa32-d63d-41cc-f020-219a7574f58c",
        "colab": {}
      },
      "cell_type": "code",
      "source": [
        "print(sum([.1, .1, .1, .1, .1, .1, .1, .1, .1, .1]))\n",
        "\n",
        "print(math.fsum([.1, .1, .1, .1, .1, .1, .1, .1, .1, .1]))"
      ],
      "execution_count": 0,
      "outputs": [
        {
          "output_type": "stream",
          "text": [
            "0.9999999999999999\n",
            "1.0\n"
          ],
          "name": "stdout"
        }
      ]
    },
    {
      "metadata": {
        "id": "dwYgBEgwWciN",
        "colab_type": "text"
      },
      "cell_type": "markdown",
      "source": [
        "<br/><br/><br/>\n",
        "\n",
        "***\n",
        "\n",
        "<br/><br/>"
      ]
    },
    {
      "metadata": {
        "id": "Xsm4w3zkWciP",
        "colab_type": "text"
      },
      "cell_type": "markdown",
      "source": [
        "## Problema: Contando números"
      ]
    },
    {
      "metadata": {
        "id": "o42LNkTZWciQ",
        "colab_type": "text"
      },
      "cell_type": "markdown",
      "source": [
        "Conte quantas vezes cada número aparece na lista abaixo e informe todos os totais."
      ]
    },
    {
      "metadata": {
        "scrolled": false,
        "id": "xRgTWEkbWciT",
        "colab_type": "code",
        "colab": {}
      },
      "cell_type": "code",
      "source": [
        "import requests\n",
        "import json\n",
        "\n",
        "lista = json.loads(requests.get(\"https://bit.ly/2RXuXsD\").text)"
      ],
      "execution_count": 0,
      "outputs": []
    },
    {
      "metadata": {
        "id": "N-6ipkrCWcif",
        "colab_type": "text"
      },
      "cell_type": "markdown",
      "source": [
        "<br/><br/><br/><br/>\n",
        "\n",
        "***\n",
        "\n",
        "<br/><br/>"
      ]
    },
    {
      "metadata": {
        "id": "ukdEFcgQWcih",
        "colab_type": "text"
      },
      "cell_type": "markdown",
      "source": [
        "## Problema: Contando palavras"
      ]
    },
    {
      "metadata": {
        "id": "6qo2bwfwWcil",
        "colab_type": "text"
      },
      "cell_type": "markdown",
      "source": [
        "Conte quantas vezes cada palavra aparece no texto abaixo e informe todos os totais."
      ]
    },
    {
      "metadata": {
        "scrolled": true,
        "id": "-nGuglsbWcin",
        "colab_type": "code",
        "colab": {}
      },
      "cell_type": "code",
      "source": [
        "texto = requests.get(\"https://bit.ly/2Cu73N6\").text\n",
        "texto"
      ],
      "execution_count": 0,
      "outputs": []
    },
    {
      "metadata": {
        "id": "WNDDyeGEWciw",
        "colab_type": "text"
      },
      "cell_type": "markdown",
      "source": [
        "<br/><br/><br/><br/>\n",
        "\n",
        "***\n",
        "\n",
        "<br/><br/>"
      ]
    },
    {
      "metadata": {
        "id": "seyrtnZMWcix",
        "colab_type": "text"
      },
      "cell_type": "markdown",
      "source": [
        "## Funções"
      ]
    },
    {
      "metadata": {
        "id": "tQo_5fxHWciy",
        "colab_type": "text"
      },
      "cell_type": "markdown",
      "source": [
        "Escrever o mesmo código várias vezes é um desperdício de tempo e torna o programa difícil de alterar. Porque não escrever algo que pode ser usado muitas vezes?"
      ]
    },
    {
      "metadata": {
        "id": "e7bzyN_zWci0",
        "colab_type": "code",
        "outputId": "1047c133-062e-4f91-bcf4-b6a56e942d89",
        "colab": {}
      },
      "cell_type": "code",
      "source": [
        "def quadrado(x):\n",
        "    return x * x\n",
        "\n",
        "quadrado(4)"
      ],
      "execution_count": 0,
      "outputs": [
        {
          "output_type": "execute_result",
          "data": {
            "text/plain": [
              "16"
            ]
          },
          "metadata": {
            "tags": []
          },
          "execution_count": 15
        }
      ]
    },
    {
      "metadata": {
        "id": "ws4SPzK6Wci-",
        "colab_type": "text"
      },
      "cell_type": "markdown",
      "source": [
        "<br/><br/><br/><br/>\n",
        "\n",
        "***\n",
        "\n",
        "<br/><br/>"
      ]
    },
    {
      "metadata": {
        "id": "931MNLrMWcjB",
        "colab_type": "text"
      },
      "cell_type": "markdown",
      "source": [
        "## Ambiente de trabalho (3): editor de código"
      ]
    },
    {
      "metadata": {
        "id": "dX_x6q5BWcjE",
        "colab_type": "text"
      },
      "cell_type": "markdown",
      "source": [
        "Vamos agora escrever nosso código fora do Jupyter Notebook, usando um editor local.\n",
        "\n",
        "1. \"Clonar\" nosso repositório do github para o computador.\n",
        "2. Criar um novo arquivo contendo a função para contar coisas.\n",
        "3. Usar a função para contar números e palavras.\n",
        "4. Mostrar os 10 item mais frequentes (números / palavras) no terminal."
      ]
    },
    {
      "metadata": {
        "id": "GBPC4b9nWcjF",
        "colab_type": "code",
        "colab": {}
      },
      "cell_type": "code",
      "source": [
        ""
      ],
      "execution_count": 0,
      "outputs": []
    },
    {
      "metadata": {
        "id": "hv9Z-tHLWcjJ",
        "colab_type": "text"
      },
      "cell_type": "markdown",
      "source": [
        "<br/><br/><br/><br/>\n",
        "\n",
        "***\n",
        "\n",
        "<br/><br/>"
      ]
    },
    {
      "metadata": {
        "id": "0NHYLY7cWcjN",
        "colab_type": "text"
      },
      "cell_type": "markdown",
      "source": [
        "## Módulos e pacotes"
      ]
    },
    {
      "metadata": {
        "id": "84hfdeBEWcjQ",
        "colab_type": "text"
      },
      "cell_type": "markdown",
      "source": [
        "Uma vez que temos mais funções, precisaremos organizá-las em grupos contendo funcionalidade similar.\n",
        "\n",
        "Isso é feito através do mecanismo de módulos e pacotes, que viemos usando até então cada vez que fazemos o \"import\" de algo.\n",
        "\n",
        "Na verdade, podemos criar nossos próprios imports, separando nosso código em diversos arquivos. "
      ]
    },
    {
      "metadata": {
        "id": "3tQvnkeRWcjS",
        "colab_type": "code",
        "colab": {}
      },
      "cell_type": "code",
      "source": [
        "import contacoisas  # um módulo para contar coisas "
      ],
      "execution_count": 0,
      "outputs": []
    },
    {
      "metadata": {
        "id": "yTRCoNdzWcjZ",
        "colab_type": "text"
      },
      "cell_type": "markdown",
      "source": [
        "Agora é hora de fazer o nosso módulo contacoisas, e importar suas funções.\n",
        "\n",
        "Após concluir esta tarefa, faça o \"commit\" e \"pull\" do código para o seu repositório."
      ]
    },
    {
      "metadata": {
        "id": "wfY3wVsFWcjd",
        "colab_type": "text"
      },
      "cell_type": "markdown",
      "source": [
        "<br/><br/><br/><br/>\n",
        "\n",
        "***\n",
        "\n",
        "<br/><br/>"
      ]
    },
    {
      "metadata": {
        "id": "1JRMTsRPWcjh",
        "colab_type": "text"
      },
      "cell_type": "markdown",
      "source": [
        "## Entrada e saída (1): arquivos"
      ]
    },
    {
      "metadata": {
        "id": "j8JkxIgiWcjj",
        "colab_type": "text"
      },
      "cell_type": "markdown",
      "source": [
        "Arquivos são a forma mais comum de armazenar dados em memória secundária.\n",
        "\n",
        "Acessar arquivos para leitura ou escrita em python é relativamente simples:"
      ]
    },
    {
      "metadata": {
        "id": "0wz70TQ9Wcjl",
        "colab_type": "code",
        "colab": {}
      },
      "cell_type": "code",
      "source": [
        "arquivo = open(\"caminho/para/o/arquivo\")  # para leitura\n",
        "\n",
        "# Ou\n",
        "\n",
        "arquivo = open(\"caminho/para/o/arquivo\", \"w\")  # para escrita"
      ],
      "execution_count": 0,
      "outputs": []
    },
    {
      "metadata": {
        "id": "Q6g7lrcRWcjx",
        "colab_type": "text"
      },
      "cell_type": "markdown",
      "source": [
        "Podemos agora fazer operações nesse arquivo, da seguinte maneira:"
      ]
    },
    {
      "metadata": {
        "id": "rpqQeh92Wcjy",
        "colab_type": "code",
        "colab": {}
      },
      "cell_type": "code",
      "source": [
        "linha_do_arquivo = arquivo.readline()\n",
        "\n",
        "arquivo.write(\"Hello\")"
      ],
      "execution_count": 0,
      "outputs": []
    },
    {
      "metadata": {
        "id": "iMnZbVn0Wcj6",
        "colab_type": "text"
      },
      "cell_type": "markdown",
      "source": [
        "<br/><br/><br/><br/>\n",
        "\n",
        "***\n",
        "\n",
        "<br/><br/>"
      ]
    },
    {
      "metadata": {
        "id": "JWeQdFe7WckB",
        "colab_type": "text"
      },
      "cell_type": "markdown",
      "source": [
        "## Problema: Preenchendo tabela de produtos"
      ]
    },
    {
      "metadata": {
        "id": "kANCy5hEWckE",
        "colab_type": "text"
      },
      "cell_type": "markdown",
      "source": [
        "1. Crie uma tabela de produtos, seus preços, e data de aquisição.\n"
      ]
    },
    {
      "metadata": {
        "id": "AP2chb2WWckH",
        "colab_type": "code",
        "colab": {}
      },
      "cell_type": "code",
      "source": [
        ""
      ],
      "execution_count": 0,
      "outputs": []
    },
    {
      "metadata": {
        "id": "B_jM4J5kWckL",
        "colab_type": "text"
      },
      "cell_type": "markdown",
      "source": [
        "## \\[Extra\\]: Unicode"
      ]
    },
    {
      "metadata": {
        "id": "P_8DeJqJWckL",
        "colab_type": "text"
      },
      "cell_type": "markdown",
      "source": [
        "Sabemos que a CPU de um computador só processa dados numéricos e os transfere de/para a memória principal.\n",
        "\n",
        "Isto quer dizer que todos os tipos usados em python são guardados na memória como números, incluindo as strings. \n",
        "\n",
        "Sendo uma string uma sequência de caracteres, então esta é armazenada como uma sequência de valores, cada um representando um caracter. Entretanto, se quisermos gravar esta string em um arquivo, ou enviá-la pela internet para outro computador, será que outro programa que leia o arquivo ou receba a string entenderá os valores recebidos como sendo os mesmos caracteres?\n",
        "\n",
        "A resposta é **talvez**.\n",
        "\n",
        "Os valores representando os caracteres podem ser interpretados de maneira diferente em diferentes programas ou computadores. \n",
        "\n",
        "Portanto, para garantir que o destinatário de nossa mensagem ou o programa que vai ler o nosso arquivo não se confunda, escreveremos sempre as strings em um sistema de codificação chamado *Unicode*, quando operando em modo binário."
      ]
    },
    {
      "metadata": {
        "id": "3E5neMwjWckT",
        "colab_type": "code",
        "colab": {}
      },
      "cell_type": "code",
      "source": [
        "arquivo.write(\"Olá\".encode(\"utf8\"))"
      ],
      "execution_count": 0,
      "outputs": []
    },
    {
      "metadata": {
        "id": "txprr-j3WckY",
        "colab_type": "text"
      },
      "cell_type": "markdown",
      "source": [
        "## Problema: Formatando informações de produtos"
      ]
    },
    {
      "metadata": {
        "id": "-KiCga6JWckk",
        "colab_type": "text"
      },
      "cell_type": "markdown",
      "source": [
        "1. Grave a tabela produzida no exercício anterior em um arquivo, de maneira que fique legível para alguém que abra o arquivo em um editor de texto."
      ]
    },
    {
      "metadata": {
        "id": "dk-9L6D9Wckl",
        "colab_type": "text"
      },
      "cell_type": "markdown",
      "source": [
        ""
      ]
    },
    {
      "metadata": {
        "id": "95P5N5HCWckm",
        "colab_type": "text"
      },
      "cell_type": "markdown",
      "source": [
        ""
      ]
    }
  ]
}