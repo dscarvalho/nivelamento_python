{
 "cells": [
  {
   "cell_type": "markdown",
   "metadata": {},
   "source": [
    "<h1 align=\"center\">Aula 2</h1>\n",
    "\n",
    "## Conteúdo\n",
    "\n",
    "- Ambiente de trabalho (2): git & GitHub\n",
    "- O comando \"import\"\n",
    "- Importando math para calcular\n",
    "- Problema: Contando números\n",
    "- Problema: Contando palavras\n",
    "- Funções\n",
    "- Ambiente de trabalho (3): editor de código\n",
    "- Módulos e pacotes\n",
    "- Entrada e saída (1): arquivos\n",
    "- Problema: Preenchendo tabela de produtos\n",
    "- \\[Extra\\]: Unicode\n",
    "- Problema: Formatando informações de produtos"
   ]
  },
  {
   "cell_type": "markdown",
   "metadata": {},
   "source": [
    "## Ambiente de trabalho (2): git & GitHub\n"
   ]
  },
  {
   "cell_type": "markdown",
   "metadata": {},
   "source": [
    "Ao trabalhar com grande quantidade de código ou colaborativamente, torna-se necessário o uso de ferramentas para gerenciar o código.\n",
    "\n",
    "Um grupo importante de ferramentas são os VCS (Version Control System), dos quais o *git* é um exemplo importante. O git foi criado para ajudar na organização do desenvolvimento do Linux, que envolve centenas de pessoas.\n",
    "\n",
    "Um VCS permite rastrear mudanças feitas em códigos (quem, quando, o que, e onde) e também combinar alterações feitas por pessoas diferentes em um mesmo arquivo. Além disso, também é possivel usá-lo como ferramenta de distribuição e atualização de programas.\n",
    "\n",
    "Espaços públicos para a distribuição e desenvolvimento colaborativo de programas então tornaram-se populares, sendo o GitHub um dos serviços mais conhecidos.\n",
    "\n",
    "[https://github.com](https://github.com)\n",
    "\n",
    "O GitHub permite hospedar código aberto ao público (open-source) gratuitamente.\n",
    "Código fica organizado em repositórios e pode ser sincronizado a partir de qualquer computador com o programa git instalado.\n",
    "\n",
    "<br/><br/>\n",
    "\n",
    "***\n",
    "\n",
    "<br/><br/>"
   ]
  },
  {
   "cell_type": "markdown",
   "metadata": {},
   "source": [
    "###### Criem uma conta no GitHub, e façam o envio (pull) dos notebooks contendo as notas de aula de vocês.\n",
    "\n",
    "<br/><br/><br/><br/>\n",
    "\n",
    "***"
   ]
  },
  {
   "cell_type": "markdown",
   "metadata": {},
   "source": [
    "## O comando \"import\""
   ]
  },
  {
   "cell_type": "markdown",
   "metadata": {},
   "source": [
    "Quando precisamos usar funcionalidades não inclusas na linguagem python,\n",
    "fazemos uso do comando import para disponibilizá-las:"
   ]
  },
  {
   "cell_type": "code",
   "execution_count": null,
   "metadata": {},
   "outputs": [],
   "source": [
    "import datetime  # Inclui funcionalidade relativa a data e hora."
   ]
  },
  {
   "cell_type": "markdown",
   "metadata": {},
   "source": [
    "## Importando math para calcular"
   ]
  },
  {
   "cell_type": "code",
   "execution_count": 2,
   "metadata": {},
   "outputs": [],
   "source": [
    "import math"
   ]
  },
  {
   "cell_type": "code",
   "execution_count": 11,
   "metadata": {},
   "outputs": [
    {
     "name": "stdout",
     "output_type": "stream",
     "text": [
      "11.0\n",
      "1.0\n",
      "-1.0\n"
     ]
    }
   ],
   "source": [
    "print(math.sqrt(121))\n",
    "print(math.log(math.e))\n",
    "print(math.cos(math.pi))"
   ]
  },
  {
   "cell_type": "code",
   "execution_count": 4,
   "metadata": {},
   "outputs": [
    {
     "name": "stdout",
     "output_type": "stream",
     "text": [
      "0.9999999999999999\n",
      "1.0\n"
     ]
    }
   ],
   "source": [
    "print(sum([.1, .1, .1, .1, .1, .1, .1, .1, .1, .1]))\n",
    "\n",
    "print(math.fsum([.1, .1, .1, .1, .1, .1, .1, .1, .1, .1]))"
   ]
  },
  {
   "cell_type": "markdown",
   "metadata": {},
   "source": [
    "<br/><br/><br/>\n",
    "\n",
    "***\n",
    "\n",
    "<br/><br/>"
   ]
  },
  {
   "cell_type": "markdown",
   "metadata": {},
   "source": [
    "## Problema: Contando números"
   ]
  },
  {
   "cell_type": "markdown",
   "metadata": {},
   "source": [
    "Conte quantas vezes cada número aparece na lista abaixo e informe todos os totais."
   ]
  },
  {
   "cell_type": "code",
   "execution_count": null,
   "metadata": {
    "scrolled": false
   },
   "outputs": [],
   "source": [
    "import requests\n",
    "import json\n",
    "\n",
    "lista = json.loads(requests.get(\"https://bit.ly/2RXuXsD\").text)"
   ]
  },
  {
   "cell_type": "markdown",
   "metadata": {},
   "source": [
    "<br/><br/><br/><br/>\n",
    "\n",
    "***\n",
    "\n",
    "<br/><br/>"
   ]
  },
  {
   "cell_type": "markdown",
   "metadata": {},
   "source": [
    "## Problema: Contando palavras"
   ]
  },
  {
   "cell_type": "markdown",
   "metadata": {},
   "source": [
    "Conte quantas vezes cada palavra aparece no texto abaixo e informe todos os totais."
   ]
  },
  {
   "cell_type": "code",
   "execution_count": null,
   "metadata": {
    "scrolled": true
   },
   "outputs": [],
   "source": [
    "texto = requests.get(\"https://bit.ly/2Cu73N6\").text\n",
    "texto"
   ]
  },
  {
   "cell_type": "markdown",
   "metadata": {},
   "source": [
    "<br/><br/><br/><br/>\n",
    "\n",
    "***\n",
    "\n",
    "<br/><br/>"
   ]
  },
  {
   "cell_type": "markdown",
   "metadata": {},
   "source": [
    "## Funções"
   ]
  },
  {
   "cell_type": "markdown",
   "metadata": {},
   "source": [
    "Escrever o mesmo código várias vezes é um desperdício de tempo e torna o programa difícil de alterar. Porque não escrever algo que pode ser usado muitas vezes?"
   ]
  },
  {
   "cell_type": "code",
   "execution_count": 15,
   "metadata": {},
   "outputs": [
    {
     "data": {
      "text/plain": [
       "16"
      ]
     },
     "execution_count": 15,
     "metadata": {},
     "output_type": "execute_result"
    }
   ],
   "source": [
    "def quadrado(x):\n",
    "    return x * x\n",
    "\n",
    "quadrado(4)"
   ]
  },
  {
   "cell_type": "markdown",
   "metadata": {},
   "source": [
    "<br/><br/><br/><br/>\n",
    "\n",
    "***\n",
    "\n",
    "<br/><br/>"
   ]
  },
  {
   "cell_type": "markdown",
   "metadata": {},
   "source": [
    "## Ambiente de trabalho (3): editor de código"
   ]
  },
  {
   "cell_type": "markdown",
   "metadata": {},
   "source": [
    "Vamos agora escrever nosso código fora do Jupyter Notebook, usando um editor local.\n",
    "\n",
    "1. \"Clonar\" nosso repositório do github para o computador.\n",
    "2. Criar um novo arquivo contendo a função para contar coisas.\n",
    "3. Usar a função para contar números e palavras.\n",
    "4. Mostrar os 10 item mais frequentes (números / palavras) no terminal."
   ]
  },
  {
   "cell_type": "code",
   "execution_count": null,
   "metadata": {},
   "outputs": [],
   "source": []
  },
  {
   "cell_type": "markdown",
   "metadata": {},
   "source": [
    "<br/><br/><br/><br/>\n",
    "\n",
    "***\n",
    "\n",
    "<br/><br/>"
   ]
  },
  {
   "cell_type": "markdown",
   "metadata": {},
   "source": [
    "## Módulos e pacotes"
   ]
  },
  {
   "cell_type": "markdown",
   "metadata": {},
   "source": [
    "Uma vez que temos mais funções, precisaremos organizá-las em grupos contendo funcionalidade similar.\n",
    "\n",
    "Isso é feito através do mecanismo de módulos e pacotes, que viemos usando até então cada vez que fazemos o \"import\" de algo.\n",
    "\n",
    "Na verdade, podemos criar nossos próprios imports, separando nosso código em diversos arquivos. "
   ]
  },
  {
   "cell_type": "code",
   "execution_count": null,
   "metadata": {},
   "outputs": [],
   "source": [
    "import contacoisas  # um módulo para contar coisas "
   ]
  },
  {
   "cell_type": "markdown",
   "metadata": {},
   "source": [
    "Agora é hora de fazer o nosso módulo contacoisas, e importar suas funções.\n",
    "\n",
    "Após concluir esta tarefa, faça o \"commit\" e \"pull\" do código para o seu repositório."
   ]
  },
  {
   "cell_type": "markdown",
   "metadata": {},
   "source": [
    "<br/><br/><br/><br/>\n",
    "\n",
    "***\n",
    "\n",
    "<br/><br/>"
   ]
  },
  {
   "cell_type": "markdown",
   "metadata": {},
   "source": [
    "## Entrada e saída (1): arquivos"
   ]
  },
  {
   "cell_type": "markdown",
   "metadata": {},
   "source": [
    "Arquivos são a forma mais comum de armazenar dados em memória secundária.\n",
    "\n",
    "Acessar arquivos para leitura ou escrita em python é relativamente simples:"
   ]
  },
  {
   "cell_type": "code",
   "execution_count": null,
   "metadata": {},
   "outputs": [],
   "source": [
    "arquivo = open(\"caminho/para/o/arquivo\")  # para leitura\n",
    "\n",
    "# Ou\n",
    "\n",
    "arquivo = open(\"caminho/para/o/arquivo\", \"w\")  # para escrita"
   ]
  },
  {
   "cell_type": "markdown",
   "metadata": {},
   "source": [
    "Podemos agora fazer operações nesse arquivo, da seguinte maneira:"
   ]
  },
  {
   "cell_type": "code",
   "execution_count": null,
   "metadata": {},
   "outputs": [],
   "source": [
    "linha_do_arquivo = arquivo.readline()\n",
    "\n",
    "arquivo.write(\"Hello\")"
   ]
  },
  {
   "cell_type": "markdown",
   "metadata": {},
   "source": [
    "<br/><br/><br/><br/>\n",
    "\n",
    "***\n",
    "\n",
    "<br/><br/>"
   ]
  },
  {
   "cell_type": "markdown",
   "metadata": {},
   "source": [
    "## Problema: Preenchendo tabela de produtos"
   ]
  },
  {
   "cell_type": "markdown",
   "metadata": {},
   "source": [
    "1. Crie uma tabela de produtos, seus preços, e data de aquisição.\n"
   ]
  },
  {
   "cell_type": "code",
   "execution_count": null,
   "metadata": {},
   "outputs": [],
   "source": []
  },
  {
   "cell_type": "markdown",
   "metadata": {},
   "source": [
    "## \\[Extra\\]: Unicode"
   ]
  },
  {
   "cell_type": "markdown",
   "metadata": {},
   "source": [
    "Sabemos que a CPU de um computador só processa dados numéricos e os transfere de/para a memória principal.\n",
    "\n",
    "Isto quer dizer que todos os tipos usados em python são guardados na memória como números, incluindo as strings. \n",
    "\n",
    "Sendo uma string uma sequência de caracteres, então esta é armazenada como uma sequência de valores, cada um representando um caracter. Entretanto, se quisermos gravar esta string em um arquivo, ou enviá-la pela internet para outro computador, será que outro programa que leia o arquivo ou receba a string entenderá os valores recebidos como sendo os mesmos caracteres?\n",
    "\n",
    "A resposta é **talvez**.\n",
    "\n",
    "Os valores representando os caracteres podem ser interpretados de maneira diferente em diferentes programas ou computadores. \n",
    "\n",
    "Portanto, para garantir que o destinatário de nossa mensagem ou o programa que vai ler o nosso arquivo não se confunda, escreveremos sempre as strings em um sistema de codificação chamado *Unicode*, quando operando em modo binário."
   ]
  },
  {
   "cell_type": "code",
   "execution_count": null,
   "metadata": {},
   "outputs": [],
   "source": [
    "arquivo.write(\"Olá\".encode(\"utf8\"))"
   ]
  },
  {
   "cell_type": "markdown",
   "metadata": {},
   "source": [
    "## Problema: Formatando informações de produtos"
   ]
  },
  {
   "cell_type": "markdown",
   "metadata": {},
   "source": [
    "1. Grave a tabela produzida no exercício anterior em um arquivo, de maneira que fique legível para alguém que abra o arquivo em um editor de texto."
   ]
  },
  {
   "cell_type": "markdown",
   "metadata": {},
   "source": []
  },
  {
   "cell_type": "markdown",
   "metadata": {},
   "source": []
  }
 ],
 "metadata": {
  "kernelspec": {
   "display_name": "py36",
   "language": "python",
   "name": "py36"
  },
  "language_info": {
   "codemirror_mode": {
    "name": "ipython",
    "version": 3
   },
   "file_extension": ".py",
   "mimetype": "text/x-python",
   "name": "python",
   "nbconvert_exporter": "python",
   "pygments_lexer": "ipython3",
   "version": "3.6.7"
  }
 },
 "nbformat": 4,
 "nbformat_minor": 2
}
