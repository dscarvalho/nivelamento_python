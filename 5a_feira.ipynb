{
 "cells": [
  {
   "cell_type": "markdown",
   "metadata": {},
   "source": [
    "<h1 align=\"center\">Aula 4</h1>\n",
    "\n",
    "## Conteúdo\n",
    "\n",
    "- Entrada e saída (2): Web\n",
    "- Problema: Estruturando dados\n",
    "- Classes e objetos\n",
    "- Problema: Jogo da velha"
   ]
  },
  {
   "cell_type": "markdown",
   "metadata": {},
   "source": [
    "## Entrada e saída (2): Web"
   ]
  },
  {
   "cell_type": "markdown",
   "metadata": {},
   "source": [
    "Podemos adquirir ou enviar dados de algum endereço na Web, usando a biblioteca requests:"
   ]
  },
  {
   "cell_type": "code",
   "execution_count": 3,
   "metadata": {},
   "outputs": [
    {
     "data": {
      "text/plain": [
       "0.6"
      ]
     },
     "execution_count": 3,
     "metadata": {},
     "output_type": "execute_result"
    }
   ],
   "source": [
    "import requests\n",
    "\n",
    "parameters = {\"term1\": \"dog\", \"term2\": \"wolf\", \"pos1\": \"noun\", \"pos2\": \"noun\"}\n",
    "url = \"http://labcores.ppgi.ufrj.br/tdv/similarity\"\n",
    "req = requests.get(url, params=parameters)\n",
    "req.json()\n"
   ]
  },
  {
   "cell_type": "code",
   "execution_count": null,
   "metadata": {},
   "outputs": [],
   "source": [
    "parameters = {\"term1\": \"cat\", \"term2\": \"猫\", \"pos1\": \"noun\", \"pos2\": \"noun\"}\n",
    "req = requests.get(url, params=parameters)\n",
    "req.json()"
   ]
  },
  {
   "cell_type": "markdown",
   "metadata": {},
   "source": [
    "## Problema: Estruturando dados"
   ]
  },
  {
   "cell_type": "markdown",
   "metadata": {},
   "source": [
    "Precisamos resolver o seguinte problema:\n",
    "Temos uma lista de alunos (matricula e nome) que precisam ser inscritos nos cursos, que estão registrados em outra lista (nome, professor e dependências). Além disso, os alunos precisam ter suas notas lançadas para cada disciplina.\n",
    "\n",
    "Como implementar as estruturas necessárias em Python?"
   ]
  },
  {
   "cell_type": "code",
   "execution_count": null,
   "metadata": {},
   "outputs": [],
   "source": [
    "alunos =  [\n",
    "    {\"nome\": \"Rodrigo\", \"matricula\": 00001}, \n",
    "    {\"nome\": \"João\", \"matricula\": 00002},\n",
    "    {\"nome\": \"André\", \"matricula\": 00003}\n",
    "]\n",
    "\n",
    "cursos = [\n",
    "    {\"nome\": \"Python 1\", \"professor\": \"prof 1\", \"id\": 001, \"dependencias\": []},\n",
    "    {\"nome\": \"Python 2\", \"professor\": \"prof 2\", \"id\": 002, \"dependencias\": [001, 003]},\n",
    "    {\"nome\": \"Estatística\", \"professor\": \"prof 3\", \"id\": 003, \"dependencias\": [004]},\n",
    "    {\"nome\": \"Algebra\", \"professor\": \"prof 4\", \"id\": 004, \"dependencias\": []},\n",
    "    {\"nome\": \"R\", \"professor\": \"prof 3\", \"id\": 005, \"dependencias\": [001, 003]}\n",
    "]\n",
    "\n",
    "turma = [\n",
    "    {\"id_curso\": 001, lista_inscritos: [00001, 00003], \"ano\": 2019},\n",
    "    {\"id_curso\": 003, lista_inscritos: [00002], \"ano\": 2018},\n",
    "    {\"id_curso\": 002, lista_inscritos: [00002], \"ano\": 2019}\n",
    "]\n",
    "\n"
   ]
  },
  {
   "cell_type": "markdown",
   "metadata": {},
   "source": [
    "## Classes e objetos"
   ]
  },
  {
   "cell_type": "markdown",
   "metadata": {},
   "source": [
    "Aprendemos a estruturar dados usando dicionários, que são bastante flexíveis e práticos. Mas precisamos de algo mais rígido para ajudar a organizar nossas estruturas de dados e reduzir erros de programação."
   ]
  },
  {
   "cell_type": "code",
   "execution_count": null,
   "metadata": {},
   "outputs": [],
   "source": [
    "aluno = {\"nome\": \"Joãozinho\", \"curso\": \"Estr. de Dados e Algoritmos\", \"matricula\": 12345678}\n",
    "\n",
    "aluno[\"nome\"]\n",
    "aluno[\"curso \"]\n",
    "# Ops!"
   ]
  },
  {
   "cell_type": "markdown",
   "metadata": {},
   "source": [
    "Para resolver isso, precisamos criar nossos próprios tipos, com campos específicos:"
   ]
  },
  {
   "cell_type": "code",
   "execution_count": null,
   "metadata": {},
   "outputs": [],
   "source": [
    "class Aluno:\n",
    "    def __init__(self):  # Construtor da classe\n",
    "        self.nome = \"\"   # Atributo da classe\n",
    "        self.curso = \"\"\n",
    "        self.matricula = 0\n",
    "        \n",
    "aluno = Aluno()"
   ]
  },
  {
   "cell_type": "code",
   "execution_count": 16,
   "metadata": {
    "scrolled": true
   },
   "outputs": [
    {
     "name": "stdout",
     "output_type": "stream",
     "text": [
      "12\n",
      "5.0\n",
      "1\n",
      "1.41421356237\n"
     ]
    }
   ],
   "source": [
    "import math\n",
    "\n",
    "class Retangulo:\n",
    "    def __init__(self, largura, altura):  \n",
    "        self.largura = largura\n",
    "        self.altura = altura\n",
    "    \n",
    "    def area(self):  # Método da classe\n",
    "        return self.largura * self.altura\n",
    "    \n",
    "    def diagonal(self):\n",
    "        return math.sqrt(self.largura ** 2 + self.altura ** 2)\n",
    "    \n",
    "    \n",
    "class Quadrado(Retangulo):  # Quadrado é um subtipo de Retangulo\n",
    "    def __init__(self, lado):\n",
    "        self.largura = lado\n",
    "        self.altura = lado\n",
    "        \n",
    "\n",
    "ret = Retangulo(3, 4)\n",
    "print(ret.area())\n",
    "print(ret.diagonal())\n",
    "\n",
    "quad = Quadrado(1)\n",
    "print(quad.area())\n",
    "print(quad.diagonal())"
   ]
  },
  {
   "cell_type": "markdown",
   "metadata": {},
   "source": [
    "## \\[Extra\\] Criando um ponto de entrada para o programa"
   ]
  },
  {
   "cell_type": "code",
   "execution_count": 5,
   "metadata": {},
   "outputs": [
    {
     "name": "stdout",
     "output_type": "stream",
     "text": [
      "Olá -f\n"
     ]
    }
   ],
   "source": [
    "import sys\n",
    "\n",
    "\n",
    "def main(argv):\n",
    "    print(\"Olá\", argv[1])\n",
    "    \n",
    "    \n",
    "\n",
    "\n",
    "if __name__ == (\"__main__\"):\n",
    "    main(sys.argv)\n",
    "    \n",
    "\n",
    "# Executar com: python3 <nome do arquivo do programa.py> <Seu nome>"
   ]
  },
  {
   "cell_type": "markdown",
   "metadata": {},
   "source": [
    "## Desafio: Jogo da velha"
   ]
  },
  {
   "cell_type": "markdown",
   "metadata": {},
   "source": [
    "Crie um programa que jogue uma partida de jogo-da-velha contra um computador remoto. O computador\n",
    "que usa pares (x,y) para comunicar suas jogadas no tabuleiro.\n",
    "\n",
    "O computador remoto atende em [http://labcores.ppgi.ufrj.br/niv_python/ttt]\n",
    "Os parâmetros disponíveis são {start (bool), session (int), row (int), col(int)}\n",
    "\n",
    "- Enviar uma mensagem com start == True começa um jogo, e o computador responde com o número da sessão e o número do jogador (1 ou 2).\n",
    "\n",
    "- Enviar posições (linha, coluna), acompanhadas do número de sessão, realiza uma jogada. O computador vai responder com a jogada dele.\n",
    "\n",
    "- O computador decidirá aleatoriamente quem começa. Se o computador começar, ele enviará a sua jogada junto com a resposta do início do jogo.\n",
    "\n",
    "- O computador vai enviar uma mensagem com end == True, com o número do jogador vencedor, winner ==\n",
    "    0. Empate (velha)\n",
    "    1. Primeiro jogador\n",
    "    2. Segundo jogador\n",
    "    "
   ]
  },
  {
   "cell_type": "code",
   "execution_count": null,
   "metadata": {},
   "outputs": [],
   "source": []
  }
 ],
 "metadata": {
  "kernelspec": {
   "display_name": "Python 3",
   "language": "python",
   "name": "python3"
  },
  "language_info": {
   "codemirror_mode": {
    "name": "ipython",
    "version": 3
   },
   "file_extension": ".py",
   "mimetype": "text/x-python",
   "name": "python",
   "nbconvert_exporter": "python",
   "pygments_lexer": "ipython3",
   "version": "3.7.1"
  }
 },
 "nbformat": 4,
 "nbformat_minor": 2
}
