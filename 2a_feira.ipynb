{
 "cells": [
  {
   "cell_type": "markdown",
   "metadata": {},
   "source": [
    "<br/><br/><br/><br/>\n",
    "<br/><br/>\n",
    "\n",
    "***\n",
    "\n",
    "<br/>\n",
    "\n",
    "<h1 align=\"center\">\n",
    "<font size=\"40pt\">Nivelamento em Programação</font>\n",
    "</h1>\n",
    "\n",
    "<h1 align=\"center\">\n",
    "<font size=\"40pt\">(Python)</font>\n",
    "</h1>\n",
    "\n",
    "<br/><br/><br/><br/>\n",
    "\n",
    "<h1 align=\"right\">\n",
    "Prof.: Danilo S. Carvalho\n",
    "</h1>\n",
    "\n",
    "***\n",
    "\n",
    "<br/><br/><br/><br/>\n",
    "<br/><br/><br/><br/>"
   ]
  },
  {
   "cell_type": "markdown",
   "metadata": {},
   "source": [
    "# Objetivos da aula\n",
    "\n",
    "<br/>\n",
    "\n",
    "- #### Ensinar conceitos básicos de programação, através da linguagem Python.\n",
    "- #### Apresentar problemas cotidianos e desenvolver soluções usando os conceitos aprendidos.\n",
    "- #### Estender soluções desenvolvidas para novos problemas.\n",
    "\n",
    "<br/><br/>\n",
    "\n",
    "***\n",
    "\n",
    "<br/>"
   ]
  },
  {
   "cell_type": "markdown",
   "metadata": {},
   "source": [
    "<h1 align=\"center\">Aula 1</h1>\n",
    "\n",
    "## Conteúdo\n",
    "\n",
    "<br/>\n",
    "\n",
    "- Aula 1:\n",
    "    - Funcionamento básico do computador\n",
    "    - Anatomia de um programa\n",
    "    - Ambiente de trabalho (1): Jupyter Notebook (Google Colab)\n",
    "    - Primeiros passos: instruções\n",
    "    - Operadores básicos\n",
    "    - Variáveis\n",
    "    - Tipos de dados\n",
    "    - Listas\n",
    "    - Problema: Calculando somatórios\n",
    "    - Loops\n",
    "    - Condicionais\n",
    "    - Problema: Encontrando itens\n",
    "    - Problema: Associação de items\n",
    "    - Dicionários\n",
    "    - Biblioteca padrão e documentação da linguagem\n",
    "    \n",
    "<br/>\n",
    "    \n",
    "***\n",
    "\n",
    "<br/>"
   ]
  },
  {
   "cell_type": "markdown",
   "metadata": {},
   "source": [
    "## Funcionamento básico do computador"
   ]
  },
  {
   "cell_type": "markdown",
   "metadata": {},
   "source": [
    "#### Um computador é composto basicamente dos seguintes elementos:\n",
    "\n",
    "- ##### Um processador (CPU)\n",
    "- ##### Memória principal (RAM)\n",
    "- ##### Memória secundária\n",
    "- ##### Periféricos (Vídeo, teclado, mouse, impressora, etc.)\n",
    "\n",
    "<br/>\n",
    "\n",
    "[slide](https://docs.google.com/presentation/d/1zaoS5EReM8lc5-OaWWLQ1feph6BYRmu3wOZ1nCzr3bg/edit#slide=id.g310a0b4403_0_58)\n",
    "\n",
    "<br/>\n",
    "\n",
    "##### Tudo o que é realizado no computador acontece na CPU, que obtém e registra dados na memória principal e na memória secundária.\n",
    "\n",
    "##### Os periféricos servem para interação com o computador, seja visualizando ou disponibilizando informações a este.\n",
    "\n",
    "<br/><br/><br/><br/>"
   ]
  },
  {
   "cell_type": "markdown",
   "metadata": {},
   "source": [
    "## Anatomia de um programa"
   ]
  },
  {
   "cell_type": "markdown",
   "metadata": {},
   "source": [
    "#### Um programa de computador consiste em uma sequência de instruções, compreendendo:\n",
    "\n",
    "- ##### Início\n",
    "- ##### Entrada de dados\n",
    "- ##### Operações de manipulação de dados\n",
    "- ##### Saída de dados\n",
    "- ##### Fim\n",
    "\n",
    "<br/>\n",
    "\n",
    "[slide](https://docs.google.com/presentation/d/1zaoS5EReM8lc5-OaWWLQ1feph6BYRmu3wOZ1nCzr3bg/edit#slide=id.g310b2862d2_0_28)\n",
    "\n",
    "\n",
    "###### O processador possui um conjunto limitado de instruções, que devem ser combinadas para atingir o objetivo desejado.\n",
    "\n",
    "###### Escrever código usando instruções do processador é uma tarefa tediosa e pouco intuitiva. Por esse motivo, foram criadas linguagens de programação, como Python.\n",
    "\n",
    "###### A linguagem Python facilita o desenvolvimento de aplicações complexas ao simplificar o acesso à funções poderosas de manipulação de dados, conforme veremos neste curso.\n",
    "\n",
    "<br/><br/>\n",
    "\n",
    "***\n",
    "\n",
    "<br/>"
   ]
  },
  {
   "cell_type": "markdown",
   "metadata": {},
   "source": [
    "## Ambiente de trabalho (1): Jupyter Notebook (Google Colab)\n"
   ]
  },
  {
   "cell_type": "markdown",
   "metadata": {},
   "source": [
    "[https://colab.research.google.com](https://colab.research.google.com)\n",
    "\n",
    "<br/>\n",
    "\n",
    "Abrir o Colaboratory usando uma conta do Google, e criar um novo notebook \"Python 3\".\n",
    "\n",
    "\n",
    "<br/><br/>\n",
    "\n",
    "***\n",
    "\n",
    "<br/><br/>"
   ]
  },
  {
   "cell_type": "markdown",
   "metadata": {},
   "source": [
    "## Primeiros passos: instruções"
   ]
  },
  {
   "cell_type": "code",
   "execution_count": 19,
   "metadata": {},
   "outputs": [
    {
     "data": {
      "text/plain": [
       "2"
      ]
     },
     "execution_count": 19,
     "metadata": {},
     "output_type": "execute_result"
    }
   ],
   "source": [
    "1 + 1"
   ]
  },
  {
   "cell_type": "code",
   "execution_count": 20,
   "metadata": {
    "scrolled": true
   },
   "outputs": [
    {
     "data": {
      "text/plain": [
       "20"
      ]
     },
     "execution_count": 20,
     "metadata": {},
     "output_type": "execute_result"
    }
   ],
   "source": [
    "(2 + 3) * 4"
   ]
  },
  {
   "cell_type": "code",
   "execution_count": 21,
   "metadata": {},
   "outputs": [
    {
     "name": "stdout",
     "output_type": "stream",
     "text": [
      "Texto 11\n"
     ]
    }
   ],
   "source": [
    "print(\"Texto\", 1 + 10)"
   ]
  },
  {
   "cell_type": "code",
   "execution_count": 22,
   "metadata": {},
   "outputs": [
    {
     "name": "stdout",
     "output_type": "stream",
     "text": [
      "Resultado:  20\n"
     ]
    }
   ],
   "source": [
    "(2 + 3) * 4\n",
    "print(\"Resultado: \", (2 + 3) * 4)"
   ]
  },
  {
   "cell_type": "markdown",
   "metadata": {},
   "source": [
    "## Operadores básicos"
   ]
  },
  {
   "cell_type": "code",
   "execution_count": 23,
   "metadata": {},
   "outputs": [
    {
     "data": {
      "text/plain": [
       "4"
      ]
     },
     "execution_count": 23,
     "metadata": {},
     "output_type": "execute_result"
    }
   ],
   "source": [
    "2 + 2"
   ]
  },
  {
   "cell_type": "code",
   "execution_count": 24,
   "metadata": {},
   "outputs": [
    {
     "data": {
      "text/plain": [
       "1"
      ]
     },
     "execution_count": 24,
     "metadata": {},
     "output_type": "execute_result"
    }
   ],
   "source": [
    "3 - 2"
   ]
  },
  {
   "cell_type": "code",
   "execution_count": 25,
   "metadata": {},
   "outputs": [
    {
     "data": {
      "text/plain": [
       "10"
      ]
     },
     "execution_count": 25,
     "metadata": {},
     "output_type": "execute_result"
    }
   ],
   "source": [
    "2 * 5"
   ]
  },
  {
   "cell_type": "code",
   "execution_count": 26,
   "metadata": {},
   "outputs": [
    {
     "data": {
      "text/plain": [
       "3.5"
      ]
     },
     "execution_count": 26,
     "metadata": {},
     "output_type": "execute_result"
    }
   ],
   "source": [
    "7 / 2"
   ]
  },
  {
   "cell_type": "code",
   "execution_count": 32,
   "metadata": {},
   "outputs": [
    {
     "data": {
      "text/plain": [
       "False"
      ]
     },
     "execution_count": 32,
     "metadata": {},
     "output_type": "execute_result"
    }
   ],
   "source": [
    "1 == 2  # Operador de igualdade"
   ]
  },
  {
   "cell_type": "code",
   "execution_count": 33,
   "metadata": {},
   "outputs": [
    {
     "data": {
      "text/plain": [
       "True"
      ]
     },
     "execution_count": 33,
     "metadata": {},
     "output_type": "execute_result"
    }
   ],
   "source": [
    "1 != 2  # Operador de desigualdade"
   ]
  },
  {
   "cell_type": "code",
   "execution_count": 35,
   "metadata": {},
   "outputs": [
    {
     "data": {
      "text/plain": [
       "True"
      ]
     },
     "execution_count": 35,
     "metadata": {},
     "output_type": "execute_result"
    }
   ],
   "source": [
    "\"abc\" == \"abc\"  # Strings também são comparáveis"
   ]
  },
  {
   "cell_type": "code",
   "execution_count": 31,
   "metadata": {},
   "outputs": [
    {
     "data": {
      "text/plain": [
       "3"
      ]
     },
     "execution_count": 31,
     "metadata": {},
     "output_type": "execute_result"
    }
   ],
   "source": [
    "7 // 2  # Operador de divisão inteira"
   ]
  },
  {
   "cell_type": "code",
   "execution_count": 30,
   "metadata": {},
   "outputs": [
    {
     "data": {
      "text/plain": [
       "1"
      ]
     },
     "execution_count": 30,
     "metadata": {},
     "output_type": "execute_result"
    }
   ],
   "source": [
    "5 % 2  # Operador módulo, resto da divisão inteira"
   ]
  },
  {
   "cell_type": "code",
   "execution_count": 34,
   "metadata": {},
   "outputs": [
    {
     "data": {
      "text/plain": [
       "8"
      ]
     },
     "execution_count": 34,
     "metadata": {},
     "output_type": "execute_result"
    }
   ],
   "source": [
    "2 ** 3  # Operador de exponenciação"
   ]
  },
  {
   "cell_type": "markdown",
   "metadata": {},
   "source": [
    "## Variáveis"
   ]
  },
  {
   "cell_type": "code",
   "execution_count": null,
   "metadata": {},
   "outputs": [],
   "source": [
    "x = 1"
   ]
  },
  {
   "cell_type": "markdown",
   "metadata": {},
   "source": [
    "Variáveis são usadas para armazenar o resultado de alguma operação.\n",
    "\n",
    "Podemos usar o valor armazenado posteriormente."
   ]
  },
  {
   "cell_type": "code",
   "execution_count": null,
   "metadata": {},
   "outputs": [],
   "source": [
    "x + 3"
   ]
  },
  {
   "cell_type": "markdown",
   "metadata": {},
   "source": [
    "## Tipos de dados"
   ]
  },
  {
   "cell_type": "markdown",
   "metadata": {},
   "source": [
    "Cada valor manipulado em um programa python possui um tipo correspondente.\n",
    "\n",
    "Para saber o tipo de um valor ou variável, podemos usar a seguinte instrução:"
   ]
  },
  {
   "cell_type": "code",
   "execution_count": 36,
   "metadata": {},
   "outputs": [
    {
     "data": {
      "text/plain": [
       "int"
      ]
     },
     "execution_count": 36,
     "metadata": {},
     "output_type": "execute_result"
    }
   ],
   "source": [
    "type(1)"
   ]
  },
  {
   "cell_type": "code",
   "execution_count": 38,
   "metadata": {},
   "outputs": [
    {
     "data": {
      "text/plain": [
       "str"
      ]
     },
     "execution_count": 38,
     "metadata": {},
     "output_type": "execute_result"
    }
   ],
   "source": [
    "type(\"Olá\")"
   ]
  },
  {
   "cell_type": "code",
   "execution_count": 40,
   "metadata": {},
   "outputs": [
    {
     "data": {
      "text/plain": [
       "float"
      ]
     },
     "execution_count": 40,
     "metadata": {},
     "output_type": "execute_result"
    }
   ],
   "source": [
    "type(6 + 3.4)  # O tipo de maior precisão sempre prevalece"
   ]
  },
  {
   "cell_type": "markdown",
   "metadata": {},
   "source": [
    "Há diversos tipos definidos por padrão em python, cada um com características distintas.\n",
    "Alguns exemplos são:\n",
    "\n",
    "- int: Números inteiros\n",
    "- float: Números reais (ponto flutuante)\n",
    "- str: Sequências de caracteres (string)\n",
    "- bytes: Sequência de dados binários\n",
    "- list: Lista de items de qualquer tipo\n",
    "\n",
    "<br/><br/>\n",
    "\n",
    "***\n",
    "\n",
    "<br/>"
   ]
  },
  {
   "cell_type": "markdown",
   "metadata": {},
   "source": [
    "## Listas"
   ]
  },
  {
   "cell_type": "markdown",
   "metadata": {},
   "source": [
    "São sequências de elementos de qualquer tipo, com ordem definida. "
   ]
  },
  {
   "cell_type": "code",
   "execution_count": null,
   "metadata": {},
   "outputs": [],
   "source": [
    "[1, 2, 3]"
   ]
  },
  {
   "cell_type": "code",
   "execution_count": null,
   "metadata": {},
   "outputs": [],
   "source": [
    "[\"a\", \"z\", \"x\"]"
   ]
  },
  {
   "cell_type": "code",
   "execution_count": 43,
   "metadata": {
    "scrolled": true
   },
   "outputs": [
    {
     "data": {
      "text/plain": [
       "1"
      ]
     },
     "execution_count": 43,
     "metadata": {},
     "output_type": "execute_result"
    }
   ],
   "source": [
    "l = [1, \"x\", 4.5]\n",
    "l[0]  # Acesso ao primeiro elemento da lista"
   ]
  },
  {
   "cell_type": "code",
   "execution_count": 44,
   "metadata": {},
   "outputs": [
    {
     "name": "stdout",
     "output_type": "stream",
     "text": [
      "x\n",
      "4.5\n"
     ]
    }
   ],
   "source": [
    "print(l[1])  # Acesso ao segundo elemento da lista\n",
    "print(l[-1]) # Acesso ao último elemento da lista"
   ]
  },
  {
   "cell_type": "markdown",
   "metadata": {},
   "source": [
    "<br/><br/>\n",
    "\n",
    "***\n",
    "\n",
    "<br/><br/>"
   ]
  },
  {
   "cell_type": "markdown",
   "metadata": {},
   "source": [
    "## Problema: Calculando somatórios"
   ]
  },
  {
   "cell_type": "markdown",
   "metadata": {},
   "source": [
    "###### Dado uma lista arbitrária de números \"l\", como podemos fazer para calcular o somatório dos elementos dessa lista? "
   ]
  },
  {
   "cell_type": "code",
   "execution_count": 45,
   "metadata": {},
   "outputs": [
    {
     "data": {
      "text/plain": [
       "28"
      ]
     },
     "execution_count": 45,
     "metadata": {},
     "output_type": "execute_result"
    }
   ],
   "source": [
    "l = [3, 5, 1, 4, 15]\n",
    "\n",
    "soma = l[0] + l[1] + l[2] + l[3] + l[4]\n",
    "soma"
   ]
  },
  {
   "cell_type": "markdown",
   "metadata": {},
   "source": [
    "<br/><br/>\n",
    "\n",
    "***\n",
    "\n",
    "<br/><br/><br/><br/>"
   ]
  },
  {
   "cell_type": "markdown",
   "metadata": {},
   "source": [
    "## Loops"
   ]
  },
  {
   "cell_type": "markdown",
   "metadata": {},
   "source": [
    "Quando queremos realizar um mesmo conjunto de operações repetidas vezes, utilizamos instruções de loop, que determinam aquilo o que será repetido e quantas vezes."
   ]
  },
  {
   "cell_type": "code",
   "execution_count": null,
   "metadata": {},
   "outputs": [],
   "source": [
    "for x in [3, 4, 5]:\n",
    "    print(x + 2)"
   ]
  },
  {
   "cell_type": "markdown",
   "metadata": {},
   "source": [
    "Solucionando o problema do somatório com loop:"
   ]
  },
  {
   "cell_type": "code",
   "execution_count": 46,
   "metadata": {},
   "outputs": [
    {
     "data": {
      "text/plain": [
       "28"
      ]
     },
     "execution_count": 46,
     "metadata": {},
     "output_type": "execute_result"
    }
   ],
   "source": [
    "soma = 0\n",
    "for x in l:\n",
    "    soma += x\n",
    "    \n",
    "soma"
   ]
  },
  {
   "cell_type": "markdown",
   "metadata": {},
   "source": [
    "<br/><br/>\n",
    "\n",
    "***\n",
    "\n",
    "<br/><br/><br/><br/>"
   ]
  },
  {
   "cell_type": "markdown",
   "metadata": {},
   "source": [
    "## Condicionais"
   ]
  },
  {
   "cell_type": "markdown",
   "metadata": {},
   "source": [
    "E quando precisamos tomar uma decisão baseada em um valor conhecido?\n",
    "\n",
    "Usamos as intruções condicionais."
   ]
  },
  {
   "cell_type": "code",
   "execution_count": null,
   "metadata": {},
   "outputs": [],
   "source": [
    "y = 0\n",
    "if (x > 1):\n",
    "    y = y + x\n",
    "else:\n",
    "    y = 1"
   ]
  },
  {
   "cell_type": "markdown",
   "metadata": {},
   "source": [
    "<br/><br/>\n",
    "\n",
    "***\n",
    "\n",
    "<br/><br/><br/><br/>"
   ]
  },
  {
   "cell_type": "markdown",
   "metadata": {},
   "source": [
    "## Problema: Encontrando itens"
   ]
  },
  {
   "cell_type": "markdown",
   "metadata": {},
   "source": [
    "Agora que já sabemos como tomar decisões, podemos resolver o seguinte problema:\n",
    "\n",
    "###### Dada uma lista arbitrária de números e um valor a ser encontrado, determinar se ele está presente na lista e caso sim, em que posição se encontra. "
   ]
  },
  {
   "cell_type": "code",
   "execution_count": 49,
   "metadata": {},
   "outputs": [
    {
     "name": "stdout",
     "output_type": "stream",
     "text": [
      "10 Não encontrado na lista\n"
     ]
    }
   ],
   "source": [
    "pos = 0\n",
    "encontrar = 10\n",
    "achei = False\n",
    "for x in l:\n",
    "    if (x == encontrar):\n",
    "        print(encontrar, \" encontrado na posição \", pos)\n",
    "        achei = True\n",
    "    pos += 1\n",
    "    \n",
    "if (not achei):\n",
    "    print(encontrar, \"Não encontrado na lista\")"
   ]
  },
  {
   "cell_type": "markdown",
   "metadata": {},
   "source": [
    "Ou então"
   ]
  },
  {
   "cell_type": "code",
   "execution_count": 57,
   "metadata": {},
   "outputs": [
    {
     "name": "stdout",
     "output_type": "stream",
     "text": [
      "10 Não encontrado na lista\n"
     ]
    }
   ],
   "source": [
    "pos = 0\n",
    "encontrar = 10\n",
    "\n",
    "for x in l:\n",
    "    if (x == encontrar):\n",
    "        print(encontrar, \" encontrado na posição \", pos)\n",
    "        break\n",
    "    pos += 1\n",
    "    \n",
    "if (pos == len(l)):\n",
    "     print(encontrar, \"Não encontrado na lista\")"
   ]
  },
  {
   "cell_type": "markdown",
   "metadata": {},
   "source": [
    "<br/><br/>\n",
    "\n",
    "***\n",
    "\n",
    "<br/><br/><br/><br/>"
   ]
  },
  {
   "cell_type": "markdown",
   "metadata": {},
   "source": [
    "## Problema: Associação de items"
   ]
  },
  {
   "cell_type": "markdown",
   "metadata": {},
   "source": [
    "###### Associar uma lista de alunos e suas notas tal que dado o nome de um aluno, sua nota pode ser encontrada"
   ]
  },
  {
   "cell_type": "code",
   "execution_count": 59,
   "metadata": {},
   "outputs": [
    {
     "name": "stdout",
     "output_type": "stream",
     "text": [
      "Nota de Sandoval Quaresma:  9.0\n"
     ]
    }
   ],
   "source": [
    "alunos = [\"João Canabrava\", \"Paulo Cintura\", \"Galeão Cumbica\", \"Sandoval Quaresma\"]\n",
    "notas = [2.0, 3.0, 5.0, 9.0]\n",
    "\n",
    "encontrar = \"Sandoval Quaresma\"\n",
    "\n",
    "pos = 0\n",
    "for aluno in alunos:\n",
    "    if (aluno == encontrar):\n",
    "        print(\"Nota de \" + encontrar + \": \", notas[pos])\n",
    "        break\n",
    "    pos += 1\n",
    "    \n",
    "if (pos == len(l)):\n",
    "     print(encontrar, \"Não encontrado na lista\")"
   ]
  },
  {
   "cell_type": "markdown",
   "metadata": {},
   "source": [
    "<br/><br/>\n",
    "\n",
    "***\n",
    "\n",
    "<br/><br/><br/><br/>"
   ]
  },
  {
   "cell_type": "markdown",
   "metadata": {},
   "source": [
    "## Dicionários"
   ]
  },
  {
   "cell_type": "markdown",
   "metadata": {},
   "source": [
    "Dicionários são um tipo de dado que realizam associações chave -> valor.\n",
    "\n",
    "A busca por uma chave é bastante rápida, permitindo a manipulação de grande quantidade de registros."
   ]
  },
  {
   "cell_type": "code",
   "execution_count": null,
   "metadata": {},
   "outputs": [],
   "source": [
    "dicionario = {\"Aluno 1\": 8.0, \"Aluno 2\": 5.0}\n",
    "\n",
    "dicionario"
   ]
  },
  {
   "cell_type": "markdown",
   "metadata": {},
   "source": [
    "Resolvendo o problema de associação com dicionários:"
   ]
  },
  {
   "cell_type": "code",
   "execution_count": 60,
   "metadata": {},
   "outputs": [
    {
     "data": {
      "text/plain": [
       "2.0"
      ]
     },
     "execution_count": 60,
     "metadata": {},
     "output_type": "execute_result"
    }
   ],
   "source": [
    "boletim = {\n",
    "    \"João Canabrava\": 2.0, \n",
    "    \"Paulo Cintura\": 3.0, \n",
    "    \"Galeão Cumbica\": 5.0, \n",
    "    \"Sandoval Quaresma\": 9.0\n",
    "}\n",
    "\n",
    "boletim[\"João Canabrava\"]"
   ]
  },
  {
   "cell_type": "markdown",
   "metadata": {},
   "source": [
    "<br/><br/>\n",
    "\n",
    "***\n",
    "\n",
    "<br/><br/><br/><br/>"
   ]
  },
  {
   "cell_type": "markdown",
   "metadata": {},
   "source": [
    "## Biblioteca padrão e documentação da linguagem"
   ]
  },
  {
   "cell_type": "markdown",
   "metadata": {},
   "source": [
    "[https://docs.python.org/3/](https://docs.python.org/3/)"
   ]
  },
  {
   "cell_type": "markdown",
   "metadata": {},
   "source": [
    "Tutorial\n",
    "\n",
    "https://docs.python.org/3/tutorial/index.html"
   ]
  }
 ],
 "metadata": {
  "kernelspec": {
   "display_name": "py36",
   "language": "python",
   "name": "py36"
  },
  "language_info": {
   "codemirror_mode": {
    "name": "ipython",
    "version": 3
   },
   "file_extension": ".py",
   "mimetype": "text/x-python",
   "name": "python",
   "nbconvert_exporter": "python",
   "pygments_lexer": "ipython3",
   "version": "3.6.7"
  }
 },
 "nbformat": 4,
 "nbformat_minor": 2
}
